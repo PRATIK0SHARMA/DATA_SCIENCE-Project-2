{
 "cells": [
  {
   "cell_type": "code",
   "execution_count": 2,
   "id": "1dc0ca3e-47fe-4214-a47b-74aefc015747",
   "metadata": {},
   "outputs": [],
   "source": [
    "import numpy as np\n",
    "import seaborn as sns\n",
    "from matplotlib import pyplot as plt\n",
    "import pandas as pd"
   ]
  },
  {
   "cell_type": "code",
   "execution_count": 3,
   "id": "eece0dff-7227-47b5-b210-905bd0b3a1c4",
   "metadata": {},
   "outputs": [],
   "source": [
    "import yfinance as yf\n",
    "from alpha_vantage.timeseries import TimeSeries\n",
    "import mplfinance as mpf"
   ]
  },
  {
   "cell_type": "markdown",
   "id": "47bce881-5f11-4716-a6d9-9d942a44fd06",
   "metadata": {},
   "source": [
    "# *TASK 1*"
   ]
  },
  {
   "cell_type": "code",
   "execution_count": 12,
   "id": "b48f67bc-d885-458c-bac2-5ce310dda203",
   "metadata": {},
   "outputs": [
    {
     "data": {
      "text/html": [
       "<div>\n",
       "<style scoped>\n",
       "    .dataframe tbody tr th:only-of-type {\n",
       "        vertical-align: middle;\n",
       "    }\n",
       "\n",
       "    .dataframe tbody tr th {\n",
       "        vertical-align: top;\n",
       "    }\n",
       "\n",
       "    .dataframe thead tr th {\n",
       "        text-align: left;\n",
       "    }\n",
       "\n",
       "    .dataframe thead tr:last-of-type th {\n",
       "        text-align: right;\n",
       "    }\n",
       "</style>\n",
       "<table border=\"1\" class=\"dataframe\">\n",
       "  <thead>\n",
       "    <tr>\n",
       "      <th>Price</th>\n",
       "      <th>Close</th>\n",
       "      <th>High</th>\n",
       "      <th>Low</th>\n",
       "      <th>Open</th>\n",
       "      <th>Volume</th>\n",
       "    </tr>\n",
       "    <tr>\n",
       "      <th>Ticker</th>\n",
       "      <th>NVDA</th>\n",
       "      <th>NVDA</th>\n",
       "      <th>NVDA</th>\n",
       "      <th>NVDA</th>\n",
       "      <th>NVDA</th>\n",
       "    </tr>\n",
       "    <tr>\n",
       "      <th>Date</th>\n",
       "      <th></th>\n",
       "      <th></th>\n",
       "      <th></th>\n",
       "      <th></th>\n",
       "      <th></th>\n",
       "    </tr>\n",
       "  </thead>\n",
       "  <tbody>\n",
       "    <tr>\n",
       "      <th>2024-07-03</th>\n",
       "      <td>128.239487</td>\n",
       "      <td>128.239487</td>\n",
       "      <td>121.321674</td>\n",
       "      <td>121.621582</td>\n",
       "      <td>215749000</td>\n",
       "    </tr>\n",
       "    <tr>\n",
       "      <th>2024-07-05</th>\n",
       "      <td>125.790268</td>\n",
       "      <td>128.809319</td>\n",
       "      <td>125.640314</td>\n",
       "      <td>127.339774</td>\n",
       "      <td>214176700</td>\n",
       "    </tr>\n",
       "    <tr>\n",
       "      <th>2024-07-08</th>\n",
       "      <td>128.159500</td>\n",
       "      <td>130.728696</td>\n",
       "      <td>126.999871</td>\n",
       "      <td>127.449725</td>\n",
       "      <td>237677300</td>\n",
       "    </tr>\n",
       "    <tr>\n",
       "      <th>2024-07-09</th>\n",
       "      <td>131.338516</td>\n",
       "      <td>133.777748</td>\n",
       "      <td>128.609367</td>\n",
       "      <td>130.308843</td>\n",
       "      <td>285366600</td>\n",
       "    </tr>\n",
       "    <tr>\n",
       "      <th>2024-07-10</th>\n",
       "      <td>134.867401</td>\n",
       "      <td>135.057344</td>\n",
       "      <td>132.378182</td>\n",
       "      <td>133.987674</td>\n",
       "      <td>248978600</td>\n",
       "    </tr>\n",
       "  </tbody>\n",
       "</table>\n",
       "</div>"
      ],
      "text/plain": [
       "Price            Close        High         Low        Open     Volume\n",
       "Ticker            NVDA        NVDA        NVDA        NVDA       NVDA\n",
       "Date                                                                 \n",
       "2024-07-03  128.239487  128.239487  121.321674  121.621582  215749000\n",
       "2024-07-05  125.790268  128.809319  125.640314  127.339774  214176700\n",
       "2024-07-08  128.159500  130.728696  126.999871  127.449725  237677300\n",
       "2024-07-09  131.338516  133.777748  128.609367  130.308843  285366600\n",
       "2024-07-10  134.867401  135.057344  132.378182  133.987674  248978600"
      ]
     },
     "execution_count": 12,
     "metadata": {},
     "output_type": "execute_result"
    }
   ],
   "source": [
    "import time\n",
    "import random\n",
    "df=yf.download(\"NVDA\",period=\"1y\",interval=\"1d\",progress=False)\n",
    "time.sleep(random.uniform(2,5))\n",
    "df.head()"
   ]
  },
  {
   "cell_type": "code",
   "execution_count": 15,
   "id": "08cd1f8f-3a85-405d-b4a5-9eba18d62a3b",
   "metadata": {},
   "outputs": [],
   "source": [
    "html_table=df.to_html()"
   ]
  },
  {
   "cell_type": "code",
   "execution_count": 35,
   "id": "ffaa3323-c336-4234-b1e4-fd2b357e23f1",
   "metadata": {},
   "outputs": [],
   "source": [
    "df=df.dropna()\n",
    "#df=df.fillna(method='ffill')     #older way to do it below is new way to do it suggested in error box\n",
    "#df=df.ffill()"
   ]
  },
  {
   "cell_type": "code",
   "execution_count": 36,
   "id": "77a8150d-0d27-464f-a087-deb839362d46",
   "metadata": {},
   "outputs": [
    {
     "data": {
      "text/plain": [
       "Date\n",
       "2024-07-01   NaN\n",
       "2024-07-02   NaN\n",
       "2024-07-03   NaN\n",
       "2024-07-05   NaN\n",
       "2024-07-08   NaN\n",
       "Name: Rolling_Moving_Average, dtype: float64"
      ]
     },
     "execution_count": 36,
     "metadata": {},
     "output_type": "execute_result"
    }
   ],
   "source": [
    "df[\"Rolling_Moving_Average\"]=df['Close'].rolling(20).mean()\n",
    "df[\"Rolling_Moving_Average\"].head()"
   ]
  },
  {
   "cell_type": "code",
   "execution_count": 37,
   "id": "112bb0d8-f6e9-4939-8732-f1e3a394988a",
   "metadata": {},
   "outputs": [
    {
     "data": {
      "image/png": "[encoded data removed]",
      "text/plain": [
       "<Figure size 1200x600 with 1 Axes>"
      ]
     },
     "metadata": {},
     "output_type": "display_data"
    }
   ],
   "source": [
    "plt.figure(figsize=(12,6))\n",
    "plt.plot(df['Close'])\n",
    "sns.set(style='darkgrid')\n",
    "plt.title(\"NVIDIA STOCK CLOSING PRICE OF ONE YEAR\")\n",
    "plt.xlabel(\"DATES\")\n",
    "plt.ylabel(\"STOCK PRICE\")\n",
    "plt.grid()\n",
    "plt.show()"
   ]
  },
  {
   "cell_type": "markdown",
   "id": "018b6a2d-a3a6-4ea3-92c6-50ff4ed212e8",
   "metadata": {},
   "source": [
    "# *TASK 2*"
   ]
  },
  {
   "cell_type": "code",
   "execution_count": 12,
   "id": "4918a77a-eec5-49f2-9612-bd77c6ec33f7",
   "metadata": {},
   "outputs": [
    {
     "data": {
      "image/png": "[encoded data removed]",
      "text/plain": [
       "<Figure size 800x575 with 4 Axes>"
      ]
     },
     "metadata": {},
     "output_type": "display_data"
    },
    {
     "data": {
      "text/plain": [
       "<Figure size 1200x600 with 0 Axes>"
      ]
     },
     "metadata": {},
     "output_type": "display_data"
    }
   ],
   "source": [
    "from alpha_vantage.timeseries import TimeSeries\n",
    "import mplfinance as mpf\n",
    "\n",
    "ts = TimeSeries(key='PLEASE_ENTER_YOUR_API_KEY_HERE(NOT PUT MINE FOR PRIVACY)', output_format='pandas')\n",
    "df, meta_df = ts.get_daily(symbol='NVDA', outputsize='compact')\n",
    "\n",
    "df.columns = ['Open', 'High', 'Low', 'Close', 'Volume']\n",
    "df.index = pd.to_datetime(df.index)\n",
    "\n",
    "\n",
    "mpf.plot(df.tail(100),type='candle',volume=True, style='yahoo',title='NVDA CANDLE_STICK CHART OF LAST 100 DAYS')\n",
    "plt.figure(figsize=(12,6))\n",
    "plt.show()"
   ]
  },
  {
   "cell_type": "code",
   "execution_count": 14,
   "id": "5f9f131a-f716-4e8b-84cf-bcb5f8d65851",
   "metadata": {},
   "outputs": [
    {
     "name": "stdout",
     "output_type": "stream",
     "text": [
      "{'1. Information': 'Daily Prices (open, high, low, close) and Volumes', '2. Symbol': 'NVDA', '3. Last Refreshed': '2025-07-03', '4. Output Size': 'Compact', '5. Time Zone': 'US/Eastern'}\n"
     ]
    }
   ],
   "source": [
    "print(meta_df)"
   ]
  },
  {
   "cell_type": "code",
   "execution_count": 20,
   "id": "fcdfed01-99fe-412d-8c87-c13f0eed40ef",
   "metadata": {},
   "outputs": [
    {
     "name": "stdout",
     "output_type": "stream",
     "text": [
      "            Moving Average 50  Moving Average 95   Close\n",
      "date                                                    \n",
      "2025-02-14           114.7138         124.754000  138.85\n",
      "2025-02-13           115.2450         124.522842  135.29\n",
      "2025-02-12           115.6476         124.289579  131.14\n",
      "2025-02-11           116.1750         124.024421  132.80\n",
      "2025-02-10           116.7922         123.769895  133.57\n"
     ]
    }
   ],
   "source": [
    "df['Moving Average 50']=df['Close'].rolling(window=50).mean()\n",
    "df['Moving Average 95']=df['Close'].rolling(window=95).mean()\n",
    "print(df[['Moving Average 50','Moving Average 95','Close']].tail())"
   ]
  },
  {
   "cell_type": "code",
   "execution_count": 24,
   "id": "a49ea5fc-c98e-4f5e-98e9-be65599c8364",
   "metadata": {},
   "outputs": [
    {
     "data": {
      "image/png": "[encoded data removed]",
      "text/plain": [
       "<Figure size 1200x600 with 1 Axes>"
      ]
     },
     "metadata": {},
     "output_type": "display_data"
    }
   ],
   "source": [
    "plt.figure(figsize=(12, 6))\n",
    "plt.plot(df['Close'], label='Closing Price', color='gray', alpha=0.5)\n",
    "plt.plot(df['Moving Average 50'], label='50-day MA', color='blue', linewidth=1.5)\n",
    "plt.plot(df['Moving Average 95'], label='95-day MA', color='red', linewidth=1.5)\n",
    "plt.title(\"50 DAYS VS 95 DAYS MOVING AVERAGES\")\n",
    "plt.xlabel(\"DATES\")\n",
    "plt.ylabel(\"PRICES\")\n",
    "plt.show()"
   ]
  },
  {
   "cell_type": "markdown",
   "id": "f7548e94-11d2-4b90-90f0-cabe9b2e1bf1",
   "metadata": {},
   "source": [
    "# *TASK 3*"
   ]
  },
  {
   "cell_type": "code",
   "execution_count": 8,
   "id": "307b1ab3-d78e-4c45-b600-310baf70276e",
   "metadata": {},
   "outputs": [
    {
     "data": {
      "text/plain": [
       "date\n",
       "2025-07-03         NaN\n",
       "2025-07-02   -1.311661\n",
       "2025-07-01   -2.511924\n",
       "2025-06-30    3.059361\n",
       "2025-06-27   -0.151908\n",
       "                ...   \n",
       "2025-02-14   -0.394548\n",
       "2025-02-13   -2.563918\n",
       "2025-02-12   -3.067485\n",
       "2025-02-11    1.265823\n",
       "2025-02-10    0.579819\n",
       "Name: Daily Returns, Length: 100, dtype: float64"
      ]
     },
     "execution_count": 8,
     "metadata": {},
     "output_type": "execute_result"
    }
   ],
   "source": [
    "df['Daily Returns']=df['Close'].pct_change()*100\n",
    "df['Daily Returns']"
   ]
  },
  {
   "cell_type": "code",
   "execution_count": 9,
   "id": "0b054f39-ce53-4164-b0df-bd73578f7ce2",
   "metadata": {},
   "outputs": [
    {
     "data": {
      "image/png": "[encoded data removed]",
      "text/plain": [
       "<Figure size 1200x600 with 1 Axes>"
      ]
     },
     "metadata": {},
     "output_type": "display_data"
    }
   ],
   "source": [
    "plt.figure(figsize=(12,6))\n",
    "plt.plot(df['Daily Returns'])\n",
    "plt.title=(\"NVDA Daily Returns (%)\")\n",
    "plt.axhline(0, color='red', linestyle='--')  \n",
    "plt.show()"
   ]
  },
  {
   "cell_type": "code",
   "execution_count": 10,
   "id": "b3b9ae27-c6d1-4664-a524-aa7c70674e36",
   "metadata": {},
   "outputs": [
    {
     "data": {
      "text/plain": [
       "3.583378359426338"
      ]
     },
     "execution_count": 10,
     "metadata": {},
     "output_type": "execute_result"
    }
   ],
   "source": [
    "daily_volatility=df['Daily Returns'].std()\n",
    "daily_volatility"
   ]
  },
  {
   "cell_type": "code",
   "execution_count": 18,
   "id": "eb4bba30-67ef-4675-b626-24ae0492efe9",
   "metadata": {},
   "outputs": [],
   "source": [
    "import plotly.graph_objects as go\n",
    "fig = go.Figure(data=[go.Candlestick(x=df.index,open=df['Open'],high=df['High'],low=df['Low'],close=df['Close'],name='Price')])"
   ]
  },
  {
   "cell_type": "code",
   "execution_count": 24,
   "id": "f168cb63-6b69-46cf-b401-e7891b59fb46",
   "metadata": {},
   "outputs": [
    {
     "data": {
      "application/vnd.plotly.v1+json": {
       "config": {
        "plotlyServerURL": "https://plot.ly"
       },
       "data": [
        {
         "close": [
          159.34,
          157.25,
          153.3,
          157.99,
          157.75,
          155.02,
          154.31,
          147.9,
          144.17,
          143.85,
          145.48,
          144.12,
          144.69,
          141.97,
          145,
          142.83,
          143.96,
          142.63,
          141.72,
          139.99,
          141.92,
          141.22,
          137.38,
          135.13,
          139.19,
          134.81,
          135.5,
          131.29,
          132.83,
          131.8,
          134.38,
          135.57,
          135.4,
          134.83,
          135.34,
          129.93,
          123,
          116.65,
          117.37,
          117.06,
          113.54,
          113.82,
          114.5,
          111.61,
          108.92,
          109.02,
          108.73,
          111.01,
          106.43,
          102.71,
          98.89,
          96.91,
          101.49,
          104.49,
          112.2,
          110.71,
          110.93,
          107.57,
          114.33,
          96.3,
          97.64,
          94.31,
          101.8,
          110.42,
          110.15,
          108.38,
          109.67,
          111.43,
          113.76,
          120.69,
          121.41,
          117.7,
          118.53,
          117.52,
          115.43,
          119.53,
          121.67,
          115.58,
          115.74,
          108.76,
          106.98,
          112.69,
          110.57,
          117.3,
          115.99,
          114.06,
          124.92,
          120.15,
          131.28,
          126.63,
          130.28,
          134.43,
          140.11,
          139.23,
          139.4,
          138.85,
          135.29,
          131.14,
          132.8,
          133.57
         ],
         "high": [
          160.98,
          157.6,
          157.2,
          158.66,
          158.71,
          156.715,
          154.45,
          147.96,
          144.78,
          146.2,
          145.65,
          145.22,
          146.175,
          143.58,
          145,
          144.99,
          144.29,
          145,
          143.27,
          144,
          142.39,
          142,
          138.12,
          139.62,
          143.49,
          137.25,
          135.66,
          132.68,
          134.25,
          137.4,
          134.58,
          135.87,
          136.35,
          136.3,
          135.435,
          131.2189,
          123,
          118.23,
          118.68,
          117.68,
          114.74,
          114.665,
          115.4,
          114.94,
          108.92,
          110.1999,
          110.3699,
          111.92,
          106.54,
          104.8,
          99.811,
          99.44,
          104.47,
          106.79,
          113.615,
          114.29,
          111.5499,
          110.86,
          115.1,
          105.85,
          101.75,
          100.13,
          105.63,
          111.98,
          110.2,
          110.955,
          112.87,
          114.45,
          118.84,
          121.29,
          122.22,
          117.99,
          120.2,
          120.445,
          119.02,
          122.89,
          121.88,
          117.76,
          116.76,
          112.236,
          111.85,
          113.48,
          115.35,
          118.2781,
          119.31,
          123.7,
          125.09,
          135.01,
          133.73,
          130.2,
          138.59,
          141.46,
          140.66,
          141.36,
          143.44,
          139.25,
          136.5,
          132.24,
          134.48,
          135
         ],
         "low": [
          157.77,
          152.97,
          151.49,
          155.96,
          155.255,
          154,
          149.26,
          145.5,
          142.03,
          142.65,
          143.12,
          143.78,
          143.2001,
          140.855,
          141.85,
          141.87,
          141.525,
          141.94,
          141.51,
          138.83,
          139.545,
          137.95,
          135.4,
          132.92,
          137.91,
          134.79,
          133.31,
          129.16,
          131.55,
          130.59,
          132.62,
          132.39,
          133.46,
          132.66,
          131.68,
          124.47,
          120.28,
          115.21,
          115.85,
          112.2818,
          110.822,
          112.66,
          113.37,
          111.3,
          104.08,
          107.44,
          106.02,
          105.73,
          103.11,
          102.02,
          97.28,
          95.04,
          100.05,
          100.45,
          110.5,
          109.07,
          107.48,
          99.15,
          97.5301,
          94.46,
          86.62,
          92.11,
          101.6,
          106.79,
          106.47,
          103.65,
          109.0701,
          110.66,
          112.71,
          118.92,
          119.34,
          115.42,
          116.47,
          115.68,
          114.54,
          118.03,
          118.15,
          113.79,
          112.88,
          104.77,
          105.46,
          107.56,
          110.22,
          114.51,
          110.11,
          112.28,
          116.4,
          120.01,
          128.49,
          124.44,
          130.08,
          134.03,
          136.7901,
          137.22,
          137.925,
          135.5,
          131.17,
          129.08,
          131.02,
          129.96
         ],
         "name": "Price",
         "open": [
          158.37,
          152.98,
          156.29,
          158.4,
          156.04,
          155.975,
          149.27,
          145.56,
          142.5,
          145.45,
          144.005,
          144.49,
          143.345,
          142.48,
          141.97,
          144.61,
          142.69,
          143.19,
          142.51,
          142.17,
          142.19,
          138.78,
          135.49,
          138.715,
          142.245,
          136.025,
          134.15,
          130,
          132.23,
          133.06,
          134.29,
          132.39,
          136.22,
          134.295,
          133.195,
          124.98,
          121.97,
          117.35,
          118.25,
          113.045,
          111.48,
          112.905,
          114.18,
          113.08,
          104.47,
          107.67,
          109.69,
          106.85,
          103.475,
          104.52,
          98.78,
          98.77,
          104.45,
          104.55,
          110.97,
          114.11,
          108.5,
          109.37,
          98.89,
          103.805,
          87.46,
          98.91,
          103.51,
          107.29,
          108.515,
          105.13,
          111.485,
          111.35,
          118.73,
          120.545,
          119.88,
          116.94,
          116.55,
          117.27,
          118,
          122.74,
          118.61,
          117.03,
          114.12,
          106.99,
          109.9,
          111.25,
          113.53,
          117.58,
          110.645,
          123.51,
          118.02,
          135,
          129.985,
          129.98,
          136.56,
          140.04,
          140.03,
          139.51,
          141.27,
          136.48,
          131.555,
          130.02,
          132.58,
          130.09
         ],
         "type": "candlestick",
         "x": [
          "2025-07-03T00:00:00",
          "2025-07-02T00:00:00",
          "2025-07-01T00:00:00",
          "2025-06-30T00:00:00",
          "2025-06-27T00:00:00",
          "2025-06-26T00:00:00",
          "2025-06-25T00:00:00",
          "2025-06-24T00:00:00",
          "2025-06-23T00:00:00",
          "2025-06-20T00:00:00",
          "2025-06-18T00:00:00",
          "2025-06-17T00:00:00",
          "2025-06-16T00:00:00",
          "2025-06-13T00:00:00",
          "2025-06-12T00:00:00",
          "2025-06-11T00:00:00",
          "2025-06-10T00:00:00",
          "2025-06-09T00:00:00",
          "2025-06-06T00:00:00",
          "2025-06-05T00:00:00",
          "2025-06-04T00:00:00",
          "2025-06-03T00:00:00",
          "2025-06-02T00:00:00",
          "2025-05-30T00:00:00",
          "2025-05-29T00:00:00",
          "2025-05-28T00:00:00",
          "2025-05-27T00:00:00",
          "2025-05-23T00:00:00",
          "2025-05-22T00:00:00",
          "2025-05-21T00:00:00",
          "2025-05-20T00:00:00",
          "2025-05-19T00:00:00",
          "2025-05-16T00:00:00",
          "2025-05-15T00:00:00",
          "2025-05-14T00:00:00",
          "2025-05-13T00:00:00",
          "2025-05-12T00:00:00",
          "2025-05-09T00:00:00",
          "2025-05-08T00:00:00",
          "2025-05-07T00:00:00",
          "2025-05-06T00:00:00",
          "2025-05-05T00:00:00",
          "2025-05-02T00:00:00",
          "2025-05-01T00:00:00",
          "2025-04-30T00:00:00",
          "2025-04-29T00:00:00",
          "2025-04-28T00:00:00",
          "2025-04-25T00:00:00",
          "2025-04-24T00:00:00",
          "2025-04-23T00:00:00",
          "2025-04-22T00:00:00",
          "2025-04-21T00:00:00",
          "2025-04-17T00:00:00",
          "2025-04-16T00:00:00",
          "2025-04-15T00:00:00",
          "2025-04-14T00:00:00",
          "2025-04-11T00:00:00",
          "2025-04-10T00:00:00",
          "2025-04-09T00:00:00",
          "2025-04-08T00:00:00",
          "2025-04-07T00:00:00",
          "2025-04-04T00:00:00",
          "2025-04-03T00:00:00",
          "2025-04-02T00:00:00",
          "2025-04-01T00:00:00",
          "2025-03-31T00:00:00",
          "2025-03-28T00:00:00",
          "2025-03-27T00:00:00",
          "2025-03-26T00:00:00",
          "2025-03-25T00:00:00",
          "2025-03-24T00:00:00",
          "2025-03-21T00:00:00",
          "2025-03-20T00:00:00",
          "2025-03-19T00:00:00",
          "2025-03-18T00:00:00",
          "2025-03-17T00:00:00",
          "2025-03-14T00:00:00",
          "2025-03-13T00:00:00",
          "2025-03-12T00:00:00",
          "2025-03-11T00:00:00",
          "2025-03-10T00:00:00",
          "2025-03-07T00:00:00",
          "2025-03-06T00:00:00",
          "2025-03-05T00:00:00",
          "2025-03-04T00:00:00",
          "2025-03-03T00:00:00",
          "2025-02-28T00:00:00",
          "2025-02-27T00:00:00",
          "2025-02-26T00:00:00",
          "2025-02-25T00:00:00",
          "2025-02-24T00:00:00",
          "2025-02-21T00:00:00",
          "2025-02-20T00:00:00",
          "2025-02-19T00:00:00",
          "2025-02-18T00:00:00",
          "2025-02-14T00:00:00",
          "2025-02-13T00:00:00",
          "2025-02-12T00:00:00",
          "2025-02-11T00:00:00",
          "2025-02-10T00:00:00"
         ]
        },
        {
         "line": {
          "color": "orange"
         },
         "name": "50-Day MA",
         "type": "scatter",
         "x": [],
         "y": [
          null,
          null,
          null,
          null,
          null,
          null,
          null,
          null,
          null,
          null,
          null,
          null,
          null,
          null,
          null,
          null,
          null,
          null,
          null,
          null,
          null,
          null,
          null,
          null,
          null,
          null,
          null,
          null,
          null,
          null,
          null,
          null,
          null,
          null,
          null,
          null,
          null,
          null,
          null,
          null,
          null,
          null,
          null,
          null,
          null,
          null,
          null,
          null,
          null,
          134.0832,
          132.8742,
          131.6674,
          130.63119999999998,
          129.56119999999999,
          128.6502,
          127.76400000000001,
          126.8964,
          126.08980000000001,
          125.49300000000001,
          124.542,
          123.5852,
          122.589,
          121.7312,
          121.10019999999999,
          120.4032,
          119.7142,
          119.0284,
          118.40439999999998,
          117.8452,
          117.4592,
          117.04900000000002,
          116.57860000000001,
          116.2016,
          115.8494,
          115.3742,
          115.0686,
          114.792,
          114.4778,
          114.13600000000001,
          113.6752,
          113.12719999999999,
          112.6696,
          112.17300000000002,
          111.8224,
          111.43540000000002,
          111.118,
          111.15639999999999,
          111.22640000000001,
          111.5046,
          111.696,
          112.0308,
          112.443,
          112.95519999999999,
          113.5076,
          114.1172,
          114.7138,
          115.245,
          115.64759999999998,
          116.175,
          116.79220000000001
         ]
        },
        {
         "line": {
          "color": "blue"
         },
         "name": "95-Day MA",
         "type": "scatter",
         "x": [],
         "y": [
          null,
          null,
          null,
          null,
          null,
          null,
          null,
          null,
          null,
          null,
          null,
          null,
          null,
          null,
          null,
          null,
          null,
          null,
          null,
          null,
          null,
          null,
          null,
          null,
          null,
          null,
          null,
          null,
          null,
          null,
          null,
          null,
          null,
          null,
          null,
          null,
          null,
          null,
          null,
          null,
          null,
          null,
          null,
          null,
          null,
          null,
          null,
          null,
          null,
          null,
          null,
          null,
          null,
          null,
          null,
          null,
          null,
          null,
          null,
          null,
          null,
          null,
          null,
          null,
          null,
          null,
          null,
          null,
          null,
          null,
          null,
          null,
          null,
          null,
          null,
          null,
          null,
          null,
          null,
          null,
          null,
          null,
          null,
          null,
          null,
          null,
          null,
          null,
          null,
          null,
          null,
          null,
          null,
          null,
          124.96968421052632,
          124.75399999999999,
          124.52284210526315,
          124.28957894736843,
          124.0244210526316,
          123.76989473684212
         ]
        },
        {
         "line": {
          "color": "orange"
         },
         "name": "50-Day MA",
         "type": "scatter",
         "x": [],
         "y": [
          null,
          null,
          null,
          null,
          null,
          null,
          null,
          null,
          null,
          null,
          null,
          null,
          null,
          null,
          null,
          null,
          null,
          null,
          null,
          null,
          null,
          null,
          null,
          null,
          null,
          null,
          null,
          null,
          null,
          null,
          null,
          null,
          null,
          null,
          null,
          null,
          null,
          null,
          null,
          null,
          null,
          null,
          null,
          null,
          null,
          null,
          null,
          null,
          null,
          134.0832,
          132.8742,
          131.6674,
          130.63119999999998,
          129.56119999999999,
          128.6502,
          127.76400000000001,
          126.8964,
          126.08980000000001,
          125.49300000000001,
          124.542,
          123.5852,
          122.589,
          121.7312,
          121.10019999999999,
          120.4032,
          119.7142,
          119.0284,
          118.40439999999998,
          117.8452,
          117.4592,
          117.04900000000002,
          116.57860000000001,
          116.2016,
          115.8494,
          115.3742,
          115.0686,
          114.792,
          114.4778,
          114.13600000000001,
          113.6752,
          113.12719999999999,
          112.6696,
          112.17300000000002,
          111.8224,
          111.43540000000002,
          111.118,
          111.15639999999999,
          111.22640000000001,
          111.5046,
          111.696,
          112.0308,
          112.443,
          112.95519999999999,
          113.5076,
          114.1172,
          114.7138,
          115.245,
          115.64759999999998,
          116.175,
          116.79220000000001
         ]
        },
        {
         "line": {
          "color": "blue"
         },
         "name": "95-Day MA",
         "type": "scatter",
         "x": [],
         "y": [
          null,
          null,
          null,
          null,
          null,
          null,
          null,
          null,
          null,
          null,
          null,
          null,
          null,
          null,
          null,
          null,
          null,
          null,
          null,
          null,
          null,
          null,
          null,
          null,
          null,
          null,
          null,
          null,
          null,
          null,
          null,
          null,
          null,
          null,
          null,
          null,
          null,
          null,
          null,
          null,
          null,
          null,
          null,
          null,
          null,
          null,
          null,
          null,
          null,
          null,
          null,
          null,
          null,
          null,
          null,
          null,
          null,
          null,
          null,
          null,
          null,
          null,
          null,
          null,
          null,
          null,
          null,
          null,
          null,
          null,
          null,
          null,
          null,
          null,
          null,
          null,
          null,
          null,
          null,
          null,
          null,
          null,
          null,
          null,
          null,
          null,
          null,
          null,
          null,
          null,
          null,
          null,
          null,
          null,
          124.96968421052632,
          124.75399999999999,
          124.52284210526315,
          124.28957894736843,
          124.0244210526316,
          123.76989473684212
         ]
        },
        {
         "line": {
          "color": "orange"
         },
         "name": "50-Day MA",
         "type": "scatter",
         "x": [
          "2025-07-03T00:00:00",
          "2025-07-02T00:00:00",
          "2025-07-01T00:00:00",
          "2025-06-30T00:00:00",
          "2025-06-27T00:00:00",
          "2025-06-26T00:00:00",
          "2025-06-25T00:00:00",
          "2025-06-24T00:00:00",
          "2025-06-23T00:00:00",
          "2025-06-20T00:00:00",
          "2025-06-18T00:00:00",
          "2025-06-17T00:00:00",
          "2025-06-16T00:00:00",
          "2025-06-13T00:00:00",
          "2025-06-12T00:00:00",
          "2025-06-11T00:00:00",
          "2025-06-10T00:00:00",
          "2025-06-09T00:00:00",
          "2025-06-06T00:00:00",
          "2025-06-05T00:00:00",
          "2025-06-04T00:00:00",
          "2025-06-03T00:00:00",
          "2025-06-02T00:00:00",
          "2025-05-30T00:00:00",
          "2025-05-29T00:00:00",
          "2025-05-28T00:00:00",
          "2025-05-27T00:00:00",
          "2025-05-23T00:00:00",
          "2025-05-22T00:00:00",
          "2025-05-21T00:00:00",
          "2025-05-20T00:00:00",
          "2025-05-19T00:00:00",
          "2025-05-16T00:00:00",
          "2025-05-15T00:00:00",
          "2025-05-14T00:00:00",
          "2025-05-13T00:00:00",
          "2025-05-12T00:00:00",
          "2025-05-09T00:00:00",
          "2025-05-08T00:00:00",
          "2025-05-07T00:00:00",
          "2025-05-06T00:00:00",
          "2025-05-05T00:00:00",
          "2025-05-02T00:00:00",
          "2025-05-01T00:00:00",
          "2025-04-30T00:00:00",
          "2025-04-29T00:00:00",
          "2025-04-28T00:00:00",
          "2025-04-25T00:00:00",
          "2025-04-24T00:00:00",
          "2025-04-23T00:00:00",
          "2025-04-22T00:00:00",
          "2025-04-21T00:00:00",
          "2025-04-17T00:00:00",
          "2025-04-16T00:00:00",
          "2025-04-15T00:00:00",
          "2025-04-14T00:00:00",
          "2025-04-11T00:00:00",
          "2025-04-10T00:00:00",
          "2025-04-09T00:00:00",
          "2025-04-08T00:00:00",
          "2025-04-07T00:00:00",
          "2025-04-04T00:00:00",
          "2025-04-03T00:00:00",
          "2025-04-02T00:00:00",
          "2025-04-01T00:00:00",
          "2025-03-31T00:00:00",
          "2025-03-28T00:00:00",
          "2025-03-27T00:00:00",
          "2025-03-26T00:00:00",
          "2025-03-25T00:00:00",
          "2025-03-24T00:00:00",
          "2025-03-21T00:00:00",
          "2025-03-20T00:00:00",
          "2025-03-19T00:00:00",
          "2025-03-18T00:00:00",
          "2025-03-17T00:00:00",
          "2025-03-14T00:00:00",
          "2025-03-13T00:00:00",
          "2025-03-12T00:00:00",
          "2025-03-11T00:00:00",
          "2025-03-10T00:00:00",
          "2025-03-07T00:00:00",
          "2025-03-06T00:00:00",
          "2025-03-05T00:00:00",
          "2025-03-04T00:00:00",
          "2025-03-03T00:00:00",
          "2025-02-28T00:00:00",
          "2025-02-27T00:00:00",
          "2025-02-26T00:00:00",
          "2025-02-25T00:00:00",
          "2025-02-24T00:00:00",
          "2025-02-21T00:00:00",
          "2025-02-20T00:00:00",
          "2025-02-19T00:00:00",
          "2025-02-18T00:00:00",
          "2025-02-14T00:00:00",
          "2025-02-13T00:00:00",
          "2025-02-12T00:00:00",
          "2025-02-11T00:00:00",
          "2025-02-10T00:00:00"
         ],
         "y": [
          null,
          null,
          null,
          null,
          null,
          null,
          null,
          null,
          null,
          null,
          null,
          null,
          null,
          null,
          null,
          null,
          null,
          null,
          null,
          null,
          null,
          null,
          null,
          null,
          null,
          null,
          null,
          null,
          null,
          null,
          null,
          null,
          null,
          null,
          null,
          null,
          null,
          null,
          null,
          null,
          null,
          null,
          null,
          null,
          null,
          null,
          null,
          null,
          null,
          134.0832,
          132.8742,
          131.6674,
          130.63119999999998,
          129.56119999999999,
          128.6502,
          127.76400000000001,
          126.8964,
          126.08980000000001,
          125.49300000000001,
          124.542,
          123.5852,
          122.589,
          121.7312,
          121.10019999999999,
          120.4032,
          119.7142,
          119.0284,
          118.40439999999998,
          117.8452,
          117.4592,
          117.04900000000002,
          116.57860000000001,
          116.2016,
          115.8494,
          115.3742,
          115.0686,
          114.792,
          114.4778,
          114.13600000000001,
          113.6752,
          113.12719999999999,
          112.6696,
          112.17300000000002,
          111.8224,
          111.43540000000002,
          111.118,
          111.15639999999999,
          111.22640000000001,
          111.5046,
          111.696,
          112.0308,
          112.443,
          112.95519999999999,
          113.5076,
          114.1172,
          114.7138,
          115.245,
          115.64759999999998,
          116.175,
          116.79220000000001
         ]
        },
        {
         "line": {
          "color": "blue"
         },
         "name": "95-Day MA",
         "type": "scatter",
         "x": [
          "2025-07-03T00:00:00",
          "2025-07-02T00:00:00",
          "2025-07-01T00:00:00",
          "2025-06-30T00:00:00",
          "2025-06-27T00:00:00",
          "2025-06-26T00:00:00",
          "2025-06-25T00:00:00",
          "2025-06-24T00:00:00",
          "2025-06-23T00:00:00",
          "2025-06-20T00:00:00",
          "2025-06-18T00:00:00",
          "2025-06-17T00:00:00",
          "2025-06-16T00:00:00",
          "2025-06-13T00:00:00",
          "2025-06-12T00:00:00",
          "2025-06-11T00:00:00",
          "2025-06-10T00:00:00",
          "2025-06-09T00:00:00",
          "2025-06-06T00:00:00",
          "2025-06-05T00:00:00",
          "2025-06-04T00:00:00",
          "2025-06-03T00:00:00",
          "2025-06-02T00:00:00",
          "2025-05-30T00:00:00",
          "2025-05-29T00:00:00",
          "2025-05-28T00:00:00",
          "2025-05-27T00:00:00",
          "2025-05-23T00:00:00",
          "2025-05-22T00:00:00",
          "2025-05-21T00:00:00",
          "2025-05-20T00:00:00",
          "2025-05-19T00:00:00",
          "2025-05-16T00:00:00",
          "2025-05-15T00:00:00",
          "2025-05-14T00:00:00",
          "2025-05-13T00:00:00",
          "2025-05-12T00:00:00",
          "2025-05-09T00:00:00",
          "2025-05-08T00:00:00",
          "2025-05-07T00:00:00",
          "2025-05-06T00:00:00",
          "2025-05-05T00:00:00",
          "2025-05-02T00:00:00",
          "2025-05-01T00:00:00",
          "2025-04-30T00:00:00",
          "2025-04-29T00:00:00",
          "2025-04-28T00:00:00",
          "2025-04-25T00:00:00",
          "2025-04-24T00:00:00",
          "2025-04-23T00:00:00",
          "2025-04-22T00:00:00",
          "2025-04-21T00:00:00",
          "2025-04-17T00:00:00",
          "2025-04-16T00:00:00",
          "2025-04-15T00:00:00",
          "2025-04-14T00:00:00",
          "2025-04-11T00:00:00",
          "2025-04-10T00:00:00",
          "2025-04-09T00:00:00",
          "2025-04-08T00:00:00",
          "2025-04-07T00:00:00",
          "2025-04-04T00:00:00",
          "2025-04-03T00:00:00",
          "2025-04-02T00:00:00",
          "2025-04-01T00:00:00",
          "2025-03-31T00:00:00",
          "2025-03-28T00:00:00",
          "2025-03-27T00:00:00",
          "2025-03-26T00:00:00",
          "2025-03-25T00:00:00",
          "2025-03-24T00:00:00",
          "2025-03-21T00:00:00",
          "2025-03-20T00:00:00",
          "2025-03-19T00:00:00",
          "2025-03-18T00:00:00",
          "2025-03-17T00:00:00",
          "2025-03-14T00:00:00",
          "2025-03-13T00:00:00",
          "2025-03-12T00:00:00",
          "2025-03-11T00:00:00",
          "2025-03-10T00:00:00",
          "2025-03-07T00:00:00",
          "2025-03-06T00:00:00",
          "2025-03-05T00:00:00",
          "2025-03-04T00:00:00",
          "2025-03-03T00:00:00",
          "2025-02-28T00:00:00",
          "2025-02-27T00:00:00",
          "2025-02-26T00:00:00",
          "2025-02-25T00:00:00",
          "2025-02-24T00:00:00",
          "2025-02-21T00:00:00",
          "2025-02-20T00:00:00",
          "2025-02-19T00:00:00",
          "2025-02-18T00:00:00",
          "2025-02-14T00:00:00",
          "2025-02-13T00:00:00",
          "2025-02-12T00:00:00",
          "2025-02-11T00:00:00",
          "2025-02-10T00:00:00"
         ],
         "y": [
          null,
          null,
          null,
          null,
          null,
          null,
          null,
          null,
          null,
          null,
          null,
          null,
          null,
          null,
          null,
          null,
          null,
          null,
          null,
          null,
          null,
          null,
          null,
          null,
          null,
          null,
          null,
          null,
          null,
          null,
          null,
          null,
          null,
          null,
          null,
          null,
          null,
          null,
          null,
          null,
          null,
          null,
          null,
          null,
          null,
          null,
          null,
          null,
          null,
          null,
          null,
          null,
          null,
          null,
          null,
          null,
          null,
          null,
          null,
          null,
          null,
          null,
          null,
          null,
          null,
          null,
          null,
          null,
          null,
          null,
          null,
          null,
          null,
          null,
          null,
          null,
          null,
          null,
          null,
          null,
          null,
          null,
          null,
          null,
          null,
          null,
          null,
          null,
          null,
          null,
          null,
          null,
          null,
          null,
          124.96968421052632,
          124.75399999999999,
          124.52284210526315,
          124.28957894736843,
          124.0244210526316,
          123.76989473684212
         ]
        }
       ],
       "layout": {
        "autosize": true,
        "hovermode": "x unified",
        "template": {
         "data": {
          "bar": [
           {
            "error_x": {
             "color": "#2a3f5f"
            },
            "error_y": {
             "color": "#2a3f5f"
            },
            "marker": {
             "line": {
              "color": "#E5ECF6",
              "width": 0.5
             },
             "pattern": {
              "fillmode": "overlay",
              "size": 10,
              "solidity": 0.2
             }
            },
            "type": "bar"
           }
          ],
          "barpolar": [
           {
            "marker": {
             "line": {
              "color": "#E5ECF6",
              "width": 0.5
             },
             "pattern": {
              "fillmode": "overlay",
              "size": 10,
              "solidity": 0.2
             }
            },
            "type": "barpolar"
           }
          ],
          "carpet": [
           {
            "aaxis": {
             "endlinecolor": "#2a3f5f",
             "gridcolor": "white",
             "linecolor": "white",
             "minorgridcolor": "white",
             "startlinecolor": "#2a3f5f"
            },
            "baxis": {
             "endlinecolor": "#2a3f5f",
             "gridcolor": "white",
             "linecolor": "white",
             "minorgridcolor": "white",
             "startlinecolor": "#2a3f5f"
            },
            "type": "carpet"
           }
          ],
          "choropleth": [
           {
            "colorbar": {
             "outlinewidth": 0,
             "ticks": ""
            },
            "type": "choropleth"
           }
          ],
          "contour": [
           {
            "colorbar": {
             "outlinewidth": 0,
             "ticks": ""
            },
            "colorscale": [
             [
              0,
              "#0d0887"
             ],
             [
              0.1111111111111111,
              "#46039f"
             ],
             [
              0.2222222222222222,
              "#7201a8"
             ],
             [
              0.3333333333333333,
              "#9c179e"
             ],
             [
              0.4444444444444444,
              "#bd3786"
             ],
             [
              0.5555555555555556,
              "#d8576b"
             ],
             [
              0.6666666666666666,
              "#ed7953"
             ],
             [
              0.7777777777777778,
              "#fb9f3a"
             ],
             [
              0.8888888888888888,
              "#fdca26"
             ],
             [
              1,
              "#f0f921"
             ]
            ],
            "type": "contour"
           }
          ],
          "contourcarpet": [
           {
            "colorbar": {
             "outlinewidth": 0,
             "ticks": ""
            },
            "type": "contourcarpet"
           }
          ],
          "heatmap": [
           {
            "colorbar": {
             "outlinewidth": 0,
             "ticks": ""
            },
            "colorscale": [
             [
              0,
              "#0d0887"
             ],
             [
              0.1111111111111111,
              "#46039f"
             ],
             [
              0.2222222222222222,
              "#7201a8"
             ],
             [
              0.3333333333333333,
              "#9c179e"
             ],
             [
              0.4444444444444444,
              "#bd3786"
             ],
             [
              0.5555555555555556,
              "#d8576b"
             ],
             [
              0.6666666666666666,
              "#ed7953"
             ],
             [
              0.7777777777777778,
              "#fb9f3a"
             ],
             [
              0.8888888888888888,
              "#fdca26"
             ],
             [
              1,
              "#f0f921"
             ]
            ],
            "type": "heatmap"
           }
          ],
          "heatmapgl": [
           {
            "colorbar": {
             "outlinewidth": 0,
             "ticks": ""
            },
            "colorscale": [
             [
              0,
              "#0d0887"
             ],
             [
              0.1111111111111111,
              "#46039f"
             ],
             [
              0.2222222222222222,
              "#7201a8"
             ],
             [
              0.3333333333333333,
              "#9c179e"
             ],
             [
              0.4444444444444444,
              "#bd3786"
             ],
             [
              0.5555555555555556,
              "#d8576b"
             ],
             [
              0.6666666666666666,
              "#ed7953"
             ],
             [
              0.7777777777777778,
              "#fb9f3a"
             ],
             [
              0.8888888888888888,
              "#fdca26"
             ],
             [
              1,
              "#f0f921"
             ]
            ],
            "type": "heatmapgl"
           }
          ],
          "histogram": [
           {
            "marker": {
             "pattern": {
              "fillmode": "overlay",
              "size": 10,
              "solidity": 0.2
             }
            },
            "type": "histogram"
           }
          ],
          "histogram2d": [
           {
            "colorbar": {
             "outlinewidth": 0,
             "ticks": ""
            },
            "colorscale": [
             [
              0,
              "#0d0887"
             ],
             [
              0.1111111111111111,
              "#46039f"
             ],
             [
              0.2222222222222222,
              "#7201a8"
             ],
             [
              0.3333333333333333,
              "#9c179e"
             ],
             [
              0.4444444444444444,
              "#bd3786"
             ],
             [
              0.5555555555555556,
              "#d8576b"
             ],
             [
              0.6666666666666666,
              "#ed7953"
             ],
             [
              0.7777777777777778,
              "#fb9f3a"
             ],
             [
              0.8888888888888888,
              "#fdca26"
             ],
             [
              1,
              "#f0f921"
             ]
            ],
            "type": "histogram2d"
           }
          ],
          "histogram2dcontour": [
           {
            "colorbar": {
             "outlinewidth": 0,
             "ticks": ""
            },
            "colorscale": [
             [
              0,
              "#0d0887"
             ],
             [
              0.1111111111111111,
              "#46039f"
             ],
             [
              0.2222222222222222,
              "#7201a8"
             ],
             [
              0.3333333333333333,
              "#9c179e"
             ],
             [
              0.4444444444444444,
              "#bd3786"
             ],
             [
              0.5555555555555556,
              "#d8576b"
             ],
             [
              0.6666666666666666,
              "#ed7953"
             ],
             [
              0.7777777777777778,
              "#fb9f3a"
             ],
             [
              0.8888888888888888,
              "#fdca26"
             ],
             [
              1,
              "#f0f921"
             ]
            ],
            "type": "histogram2dcontour"
           }
          ],
          "mesh3d": [
           {
            "colorbar": {
             "outlinewidth": 0,
             "ticks": ""
            },
            "type": "mesh3d"
           }
          ],
          "parcoords": [
           {
            "line": {
             "colorbar": {
              "outlinewidth": 0,
              "ticks": ""
             }
            },
            "type": "parcoords"
           }
          ],
          "pie": [
           {
            "automargin": true,
            "type": "pie"
           }
          ],
          "scatter": [
           {
            "fillpattern": {
             "fillmode": "overlay",
             "size": 10,
             "solidity": 0.2
            },
            "type": "scatter"
           }
          ],
          "scatter3d": [
           {
            "line": {
             "colorbar": {
              "outlinewidth": 0,
              "ticks": ""
             }
            },
            "marker": {
             "colorbar": {
              "outlinewidth": 0,
              "ticks": ""
             }
            },
            "type": "scatter3d"
           }
          ],
          "scattercarpet": [
           {
            "marker": {
             "colorbar": {
              "outlinewidth": 0,
              "ticks": ""
             }
            },
            "type": "scattercarpet"
           }
          ],
          "scattergeo": [
           {
            "marker": {
             "colorbar": {
              "outlinewidth": 0,
              "ticks": ""
             }
            },
            "type": "scattergeo"
           }
          ],
          "scattergl": [
           {
            "marker": {
             "colorbar": {
              "outlinewidth": 0,
              "ticks": ""
             }
            },
            "type": "scattergl"
           }
          ],
          "scattermapbox": [
           {
            "marker": {
             "colorbar": {
              "outlinewidth": 0,
              "ticks": ""
             }
            },
            "type": "scattermapbox"
           }
          ],
          "scatterpolar": [
           {
            "marker": {
             "colorbar": {
              "outlinewidth": 0,
              "ticks": ""
             }
            },
            "type": "scatterpolar"
           }
          ],
          "scatterpolargl": [
           {
            "marker": {
             "colorbar": {
              "outlinewidth": 0,
              "ticks": ""
             }
            },
            "type": "scatterpolargl"
           }
          ],
          "scatterternary": [
           {
            "marker": {
             "colorbar": {
              "outlinewidth": 0,
              "ticks": ""
             }
            },
            "type": "scatterternary"
           }
          ],
          "surface": [
           {
            "colorbar": {
             "outlinewidth": 0,
             "ticks": ""
            },
            "colorscale": [
             [
              0,
              "#0d0887"
             ],
             [
              0.1111111111111111,
              "#46039f"
             ],
             [
              0.2222222222222222,
              "#7201a8"
             ],
             [
              0.3333333333333333,
              "#9c179e"
             ],
             [
              0.4444444444444444,
              "#bd3786"
             ],
             [
              0.5555555555555556,
              "#d8576b"
             ],
             [
              0.6666666666666666,
              "#ed7953"
             ],
             [
              0.7777777777777778,
              "#fb9f3a"
             ],
             [
              0.8888888888888888,
              "#fdca26"
             ],
             [
              1,
              "#f0f921"
             ]
            ],
            "type": "surface"
           }
          ],
          "table": [
           {
            "cells": {
             "fill": {
              "color": "#EBF0F8"
             },
             "line": {
              "color": "white"
             }
            },
            "header": {
             "fill": {
              "color": "#C8D4E3"
             },
             "line": {
              "color": "white"
             }
            },
            "type": "table"
           }
          ]
         },
         "layout": {
          "annotationdefaults": {
           "arrowcolor": "#2a3f5f",
           "arrowhead": 0,
           "arrowwidth": 1
          },
          "autotypenumbers": "strict",
          "coloraxis": {
           "colorbar": {
            "outlinewidth": 0,
            "ticks": ""
           }
          },
          "colorscale": {
           "diverging": [
            [
             0,
             "#8e0152"
            ],
            [
             0.1,
             "#c51b7d"
            ],
            [
             0.2,
             "#de77ae"
            ],
            [
             0.3,
             "#f1b6da"
            ],
            [
             0.4,
             "#fde0ef"
            ],
            [
             0.5,
             "#f7f7f7"
            ],
            [
             0.6,
             "#e6f5d0"
            ],
            [
             0.7,
             "#b8e186"
            ],
            [
             0.8,
             "#7fbc41"
            ],
            [
             0.9,
             "#4d9221"
            ],
            [
             1,
             "#276419"
            ]
           ],
           "sequential": [
            [
             0,
             "#0d0887"
            ],
            [
             0.1111111111111111,
             "#46039f"
            ],
            [
             0.2222222222222222,
             "#7201a8"
            ],
            [
             0.3333333333333333,
             "#9c179e"
            ],
            [
             0.4444444444444444,
             "#bd3786"
            ],
            [
             0.5555555555555556,
             "#d8576b"
            ],
            [
             0.6666666666666666,
             "#ed7953"
            ],
            [
             0.7777777777777778,
             "#fb9f3a"
            ],
            [
             0.8888888888888888,
             "#fdca26"
            ],
            [
             1,
             "#f0f921"
            ]
           ],
           "sequentialminus": [
            [
             0,
             "#0d0887"
            ],
            [
             0.1111111111111111,
             "#46039f"
            ],
            [
             0.2222222222222222,
             "#7201a8"
            ],
            [
             0.3333333333333333,
             "#9c179e"
            ],
            [
             0.4444444444444444,
             "#bd3786"
            ],
            [
             0.5555555555555556,
             "#d8576b"
            ],
            [
             0.6666666666666666,
             "#ed7953"
            ],
            [
             0.7777777777777778,
             "#fb9f3a"
            ],
            [
             0.8888888888888888,
             "#fdca26"
            ],
            [
             1,
             "#f0f921"
            ]
           ]
          },
          "colorway": [
           "#636efa",
           "#EF553B",
           "#00cc96",
           "#ab63fa",
           "#FFA15A",
           "#19d3f3",
           "#FF6692",
           "#B6E880",
           "#FF97FF",
           "#FECB52"
          ],
          "font": {
           "color": "#2a3f5f"
          },
          "geo": {
           "bgcolor": "white",
           "lakecolor": "white",
           "landcolor": "#E5ECF6",
           "showlakes": true,
           "showland": true,
           "subunitcolor": "white"
          },
          "hoverlabel": {
           "align": "left"
          },
          "hovermode": "closest",
          "mapbox": {
           "style": "light"
          },
          "paper_bgcolor": "white",
          "plot_bgcolor": "#E5ECF6",
          "polar": {
           "angularaxis": {
            "gridcolor": "white",
            "linecolor": "white",
            "ticks": ""
           },
           "bgcolor": "#E5ECF6",
           "radialaxis": {
            "gridcolor": "white",
            "linecolor": "white",
            "ticks": ""
           }
          },
          "scene": {
           "xaxis": {
            "backgroundcolor": "#E5ECF6",
            "gridcolor": "white",
            "gridwidth": 2,
            "linecolor": "white",
            "showbackground": true,
            "ticks": "",
            "zerolinecolor": "white"
           },
           "yaxis": {
            "backgroundcolor": "#E5ECF6",
            "gridcolor": "white",
            "gridwidth": 2,
            "linecolor": "white",
            "showbackground": true,
            "ticks": "",
            "zerolinecolor": "white"
           },
           "zaxis": {
            "backgroundcolor": "#E5ECF6",
            "gridcolor": "white",
            "gridwidth": 2,
            "linecolor": "white",
            "showbackground": true,
            "ticks": "",
            "zerolinecolor": "white"
           }
          },
          "shapedefaults": {
           "line": {
            "color": "#2a3f5f"
           }
          },
          "ternary": {
           "aaxis": {
            "gridcolor": "white",
            "linecolor": "white",
            "ticks": ""
           },
           "baxis": {
            "gridcolor": "white",
            "linecolor": "white",
            "ticks": ""
           },
           "bgcolor": "#E5ECF6",
           "caxis": {
            "gridcolor": "white",
            "linecolor": "white",
            "ticks": ""
           }
          },
          "title": {
           "x": 0.05
          },
          "xaxis": {
           "automargin": true,
           "gridcolor": "white",
           "linecolor": "white",
           "ticks": "",
           "title": {
            "standoff": 15
           },
           "zerolinecolor": "white",
           "zerolinewidth": 2
          },
          "yaxis": {
           "automargin": true,
           "gridcolor": "white",
           "linecolor": "white",
           "ticks": "",
           "title": {
            "standoff": 15
           },
           "zerolinecolor": "white",
           "zerolinewidth": 2
          }
         }
        },
        "title": {
         "text": "Interactive Stock Price"
        },
        "xaxis": {
         "autorange": true,
         "range": [
          "2025-02-09 12:00",
          "2025-07-03 12:00"
         ],
         "rangeslider": {
          "autorange": true,
          "range": [
           "2025-02-09 12:00",
           "2025-07-03 12:00"
          ],
          "yaxis": {
           "_template": null,
           "rangemode": "match"
          }
         },
         "title": {
          "text": "Date"
         },
         "type": "date"
        },
        "yaxis": {
         "autorange": true,
         "range": [
          82.4888888888889,
          165.1111111111111
         ],
         "title": {
          "text": "Price ($)"
         },
         "type": "linear"
        }
       }
      },
      "image/png": "[encoded data removed]",
      "text/html": [
       "<div>                            <div id=\"3b2b921a-fdab-4030-8e4b-a1d9d9132723\" class=\"plotly-graph-div\" style=\"height:525px; width:100%;\"></div>            <script type=\"text/javascript\">                require([\"plotly\"], function(Plotly) {                    window.PLOTLYENV=window.PLOTLYENV || {};                                    if (document.getElementById(\"3b2b921a-fdab-4030-8e4b-a1d9d9132723\")) {                    Plotly.newPlot(                        \"3b2b921a-fdab-4030-8e4b-a1d9d9132723\",                        [{\"close\":[159.34,157.25,153.3,157.99,157.75,155.02,154.31,147.9,144.17,143.85,145.48,144.12,144.69,141.97,145.0,142.83,143.96,142.63,141.72,139.99,141.92,141.22,137.38,135.13,139.19,134.81,135.5,131.29,132.83,131.8,134.38,135.57,135.4,134.83,135.34,129.93,123.0,116.65,117.37,117.06,113.54,113.82,114.5,111.61,108.92,109.02,108.73,111.01,106.43,102.71,98.89,96.91,101.49,104.49,112.2,110.71,110.93,107.57,114.33,96.3,97.64,94.31,101.8,110.42,110.15,108.38,109.67,111.43,113.76,120.69,121.41,117.7,118.53,117.52,115.43,119.53,121.67,115.58,115.74,108.76,106.98,112.69,110.57,117.3,115.99,114.06,124.92,120.15,131.28,126.63,130.28,134.43,140.11,139.23,139.4,138.85,135.29,131.14,132.8,133.57],\"high\":[160.98,157.6,157.2,158.66,158.71,156.715,154.45,147.96,144.78,146.2,145.65,145.22,146.175,143.58,145.0,144.99,144.29,145.0,143.27,144.0,142.39,142.0,138.12,139.62,143.49,137.25,135.66,132.68,134.25,137.4,134.58,135.87,136.35,136.3,135.435,131.2189,123.0,118.23,118.68,117.68,114.74,114.665,115.4,114.94,108.92,110.1999,110.3699,111.92,106.54,104.8,99.811,99.44,104.47,106.79,113.615,114.29,111.5499,110.86,115.1,105.85,101.75,100.13,105.63,111.98,110.2,110.955,112.87,114.45,118.84,121.29,122.22,117.99,120.2,120.445,119.02,122.89,121.88,117.76,116.76,112.236,111.85,113.48,115.35,118.2781,119.31,123.7,125.09,135.01,133.73,130.2,138.59,141.46,140.66,141.36,143.44,139.25,136.5,132.24,134.48,135.0],\"low\":[157.77,152.97,151.49,155.96,155.255,154.0,149.26,145.5,142.03,142.65,143.12,143.78,143.2001,140.855,141.85,141.87,141.525,141.94,141.51,138.83,139.545,137.95,135.4,132.92,137.91,134.79,133.31,129.16,131.55,130.59,132.62,132.39,133.46,132.66,131.68,124.47,120.28,115.21,115.85,112.2818,110.822,112.66,113.37,111.3,104.08,107.44,106.02,105.73,103.11,102.02,97.28,95.04,100.05,100.45,110.5,109.07,107.48,99.15,97.5301,94.46,86.62,92.11,101.6,106.79,106.47,103.65,109.0701,110.66,112.71,118.92,119.34,115.42,116.47,115.68,114.54,118.03,118.15,113.79,112.88,104.77,105.46,107.56,110.22,114.51,110.11,112.28,116.4,120.01,128.49,124.44,130.08,134.03,136.7901,137.22,137.925,135.5,131.17,129.08,131.02,129.96],\"name\":\"Price\",\"open\":[158.37,152.98,156.29,158.4,156.04,155.975,149.27,145.56,142.5,145.45,144.005,144.49,143.345,142.48,141.97,144.61,142.69,143.19,142.51,142.17,142.19,138.78,135.49,138.715,142.245,136.025,134.15,130.0,132.23,133.06,134.29,132.39,136.22,134.295,133.195,124.98,121.97,117.35,118.25,113.045,111.48,112.905,114.18,113.08,104.47,107.67,109.69,106.85,103.475,104.52,98.78,98.77,104.45,104.55,110.97,114.11,108.5,109.37,98.89,103.805,87.46,98.91,103.51,107.29,108.515,105.13,111.485,111.35,118.73,120.545,119.88,116.94,116.55,117.27,118.0,122.74,118.61,117.03,114.12,106.99,109.9,111.25,113.53,117.58,110.645,123.51,118.02,135.0,129.985,129.98,136.56,140.04,140.03,139.51,141.27,136.48,131.555,130.02,132.58,130.09],\"x\":[\"2025-07-03T00:00:00\",\"2025-07-02T00:00:00\",\"2025-07-01T00:00:00\",\"2025-06-30T00:00:00\",\"2025-06-27T00:00:00\",\"2025-06-26T00:00:00\",\"2025-06-25T00:00:00\",\"2025-06-24T00:00:00\",\"2025-06-23T00:00:00\",\"2025-06-20T00:00:00\",\"2025-06-18T00:00:00\",\"2025-06-17T00:00:00\",\"2025-06-16T00:00:00\",\"2025-06-13T00:00:00\",\"2025-06-12T00:00:00\",\"2025-06-11T00:00:00\",\"2025-06-10T00:00:00\",\"2025-06-09T00:00:00\",\"2025-06-06T00:00:00\",\"2025-06-05T00:00:00\",\"2025-06-04T00:00:00\",\"2025-06-03T00:00:00\",\"2025-06-02T00:00:00\",\"2025-05-30T00:00:00\",\"2025-05-29T00:00:00\",\"2025-05-28T00:00:00\",\"2025-05-27T00:00:00\",\"2025-05-23T00:00:00\",\"2025-05-22T00:00:00\",\"2025-05-21T00:00:00\",\"2025-05-20T00:00:00\",\"2025-05-19T00:00:00\",\"2025-05-16T00:00:00\",\"2025-05-15T00:00:00\",\"2025-05-14T00:00:00\",\"2025-05-13T00:00:00\",\"2025-05-12T00:00:00\",\"2025-05-09T00:00:00\",\"2025-05-08T00:00:00\",\"2025-05-07T00:00:00\",\"2025-05-06T00:00:00\",\"2025-05-05T00:00:00\",\"2025-05-02T00:00:00\",\"2025-05-01T00:00:00\",\"2025-04-30T00:00:00\",\"2025-04-29T00:00:00\",\"2025-04-28T00:00:00\",\"2025-04-25T00:00:00\",\"2025-04-24T00:00:00\",\"2025-04-23T00:00:00\",\"2025-04-22T00:00:00\",\"2025-04-21T00:00:00\",\"2025-04-17T00:00:00\",\"2025-04-16T00:00:00\",\"2025-04-15T00:00:00\",\"2025-04-14T00:00:00\",\"2025-04-11T00:00:00\",\"2025-04-10T00:00:00\",\"2025-04-09T00:00:00\",\"2025-04-08T00:00:00\",\"2025-04-07T00:00:00\",\"2025-04-04T00:00:00\",\"2025-04-03T00:00:00\",\"2025-04-02T00:00:00\",\"2025-04-01T00:00:00\",\"2025-03-31T00:00:00\",\"2025-03-28T00:00:00\",\"2025-03-27T00:00:00\",\"2025-03-26T00:00:00\",\"2025-03-25T00:00:00\",\"2025-03-24T00:00:00\",\"2025-03-21T00:00:00\",\"2025-03-20T00:00:00\",\"2025-03-19T00:00:00\",\"2025-03-18T00:00:00\",\"2025-03-17T00:00:00\",\"2025-03-14T00:00:00\",\"2025-03-13T00:00:00\",\"2025-03-12T00:00:00\",\"2025-03-11T00:00:00\",\"2025-03-10T00:00:00\",\"2025-03-07T00:00:00\",\"2025-03-06T00:00:00\",\"2025-03-05T00:00:00\",\"2025-03-04T00:00:00\",\"2025-03-03T00:00:00\",\"2025-02-28T00:00:00\",\"2025-02-27T00:00:00\",\"2025-02-26T00:00:00\",\"2025-02-25T00:00:00\",\"2025-02-24T00:00:00\",\"2025-02-21T00:00:00\",\"2025-02-20T00:00:00\",\"2025-02-19T00:00:00\",\"2025-02-18T00:00:00\",\"2025-02-14T00:00:00\",\"2025-02-13T00:00:00\",\"2025-02-12T00:00:00\",\"2025-02-11T00:00:00\",\"2025-02-10T00:00:00\"],\"type\":\"candlestick\"},{\"line\":{\"color\":\"orange\"},\"name\":\"50-Day MA\",\"x\":[],\"y\":[null,null,null,null,null,null,null,null,null,null,null,null,null,null,null,null,null,null,null,null,null,null,null,null,null,null,null,null,null,null,null,null,null,null,null,null,null,null,null,null,null,null,null,null,null,null,null,null,null,134.0832,132.8742,131.6674,130.63119999999998,129.56119999999999,128.6502,127.76400000000001,126.8964,126.08980000000001,125.49300000000001,124.542,123.5852,122.589,121.7312,121.10019999999999,120.4032,119.7142,119.0284,118.40439999999998,117.8452,117.4592,117.04900000000002,116.57860000000001,116.2016,115.8494,115.3742,115.0686,114.792,114.4778,114.13600000000001,113.6752,113.12719999999999,112.6696,112.17300000000002,111.8224,111.43540000000002,111.118,111.15639999999999,111.22640000000001,111.5046,111.696,112.0308,112.443,112.95519999999999,113.5076,114.1172,114.7138,115.245,115.64759999999998,116.175,116.79220000000001],\"type\":\"scatter\"},{\"line\":{\"color\":\"blue\"},\"name\":\"95-Day MA\",\"x\":[],\"y\":[null,null,null,null,null,null,null,null,null,null,null,null,null,null,null,null,null,null,null,null,null,null,null,null,null,null,null,null,null,null,null,null,null,null,null,null,null,null,null,null,null,null,null,null,null,null,null,null,null,null,null,null,null,null,null,null,null,null,null,null,null,null,null,null,null,null,null,null,null,null,null,null,null,null,null,null,null,null,null,null,null,null,null,null,null,null,null,null,null,null,null,null,null,null,124.96968421052632,124.75399999999999,124.52284210526315,124.28957894736843,124.0244210526316,123.76989473684212],\"type\":\"scatter\"},{\"line\":{\"color\":\"orange\"},\"name\":\"50-Day MA\",\"x\":[],\"y\":[null,null,null,null,null,null,null,null,null,null,null,null,null,null,null,null,null,null,null,null,null,null,null,null,null,null,null,null,null,null,null,null,null,null,null,null,null,null,null,null,null,null,null,null,null,null,null,null,null,134.0832,132.8742,131.6674,130.63119999999998,129.56119999999999,128.6502,127.76400000000001,126.8964,126.08980000000001,125.49300000000001,124.542,123.5852,122.589,121.7312,121.10019999999999,120.4032,119.7142,119.0284,118.40439999999998,117.8452,117.4592,117.04900000000002,116.57860000000001,116.2016,115.8494,115.3742,115.0686,114.792,114.4778,114.13600000000001,113.6752,113.12719999999999,112.6696,112.17300000000002,111.8224,111.43540000000002,111.118,111.15639999999999,111.22640000000001,111.5046,111.696,112.0308,112.443,112.95519999999999,113.5076,114.1172,114.7138,115.245,115.64759999999998,116.175,116.79220000000001],\"type\":\"scatter\"},{\"line\":{\"color\":\"blue\"},\"name\":\"95-Day MA\",\"x\":[],\"y\":[null,null,null,null,null,null,null,null,null,null,null,null,null,null,null,null,null,null,null,null,null,null,null,null,null,null,null,null,null,null,null,null,null,null,null,null,null,null,null,null,null,null,null,null,null,null,null,null,null,null,null,null,null,null,null,null,null,null,null,null,null,null,null,null,null,null,null,null,null,null,null,null,null,null,null,null,null,null,null,null,null,null,null,null,null,null,null,null,null,null,null,null,null,null,124.96968421052632,124.75399999999999,124.52284210526315,124.28957894736843,124.0244210526316,123.76989473684212],\"type\":\"scatter\"},{\"line\":{\"color\":\"orange\"},\"name\":\"50-Day MA\",\"x\":[\"2025-07-03T00:00:00\",\"2025-07-02T00:00:00\",\"2025-07-01T00:00:00\",\"2025-06-30T00:00:00\",\"2025-06-27T00:00:00\",\"2025-06-26T00:00:00\",\"2025-06-25T00:00:00\",\"2025-06-24T00:00:00\",\"2025-06-23T00:00:00\",\"2025-06-20T00:00:00\",\"2025-06-18T00:00:00\",\"2025-06-17T00:00:00\",\"2025-06-16T00:00:00\",\"2025-06-13T00:00:00\",\"2025-06-12T00:00:00\",\"2025-06-11T00:00:00\",\"2025-06-10T00:00:00\",\"2025-06-09T00:00:00\",\"2025-06-06T00:00:00\",\"2025-06-05T00:00:00\",\"2025-06-04T00:00:00\",\"2025-06-03T00:00:00\",\"2025-06-02T00:00:00\",\"2025-05-30T00:00:00\",\"2025-05-29T00:00:00\",\"2025-05-28T00:00:00\",\"2025-05-27T00:00:00\",\"2025-05-23T00:00:00\",\"2025-05-22T00:00:00\",\"2025-05-21T00:00:00\",\"2025-05-20T00:00:00\",\"2025-05-19T00:00:00\",\"2025-05-16T00:00:00\",\"2025-05-15T00:00:00\",\"2025-05-14T00:00:00\",\"2025-05-13T00:00:00\",\"2025-05-12T00:00:00\",\"2025-05-09T00:00:00\",\"2025-05-08T00:00:00\",\"2025-05-07T00:00:00\",\"2025-05-06T00:00:00\",\"2025-05-05T00:00:00\",\"2025-05-02T00:00:00\",\"2025-05-01T00:00:00\",\"2025-04-30T00:00:00\",\"2025-04-29T00:00:00\",\"2025-04-28T00:00:00\",\"2025-04-25T00:00:00\",\"2025-04-24T00:00:00\",\"2025-04-23T00:00:00\",\"2025-04-22T00:00:00\",\"2025-04-21T00:00:00\",\"2025-04-17T00:00:00\",\"2025-04-16T00:00:00\",\"2025-04-15T00:00:00\",\"2025-04-14T00:00:00\",\"2025-04-11T00:00:00\",\"2025-04-10T00:00:00\",\"2025-04-09T00:00:00\",\"2025-04-08T00:00:00\",\"2025-04-07T00:00:00\",\"2025-04-04T00:00:00\",\"2025-04-03T00:00:00\",\"2025-04-02T00:00:00\",\"2025-04-01T00:00:00\",\"2025-03-31T00:00:00\",\"2025-03-28T00:00:00\",\"2025-03-27T00:00:00\",\"2025-03-26T00:00:00\",\"2025-03-25T00:00:00\",\"2025-03-24T00:00:00\",\"2025-03-21T00:00:00\",\"2025-03-20T00:00:00\",\"2025-03-19T00:00:00\",\"2025-03-18T00:00:00\",\"2025-03-17T00:00:00\",\"2025-03-14T00:00:00\",\"2025-03-13T00:00:00\",\"2025-03-12T00:00:00\",\"2025-03-11T00:00:00\",\"2025-03-10T00:00:00\",\"2025-03-07T00:00:00\",\"2025-03-06T00:00:00\",\"2025-03-05T00:00:00\",\"2025-03-04T00:00:00\",\"2025-03-03T00:00:00\",\"2025-02-28T00:00:00\",\"2025-02-27T00:00:00\",\"2025-02-26T00:00:00\",\"2025-02-25T00:00:00\",\"2025-02-24T00:00:00\",\"2025-02-21T00:00:00\",\"2025-02-20T00:00:00\",\"2025-02-19T00:00:00\",\"2025-02-18T00:00:00\",\"2025-02-14T00:00:00\",\"2025-02-13T00:00:00\",\"2025-02-12T00:00:00\",\"2025-02-11T00:00:00\",\"2025-02-10T00:00:00\"],\"y\":[null,null,null,null,null,null,null,null,null,null,null,null,null,null,null,null,null,null,null,null,null,null,null,null,null,null,null,null,null,null,null,null,null,null,null,null,null,null,null,null,null,null,null,null,null,null,null,null,null,134.0832,132.8742,131.6674,130.63119999999998,129.56119999999999,128.6502,127.76400000000001,126.8964,126.08980000000001,125.49300000000001,124.542,123.5852,122.589,121.7312,121.10019999999999,120.4032,119.7142,119.0284,118.40439999999998,117.8452,117.4592,117.04900000000002,116.57860000000001,116.2016,115.8494,115.3742,115.0686,114.792,114.4778,114.13600000000001,113.6752,113.12719999999999,112.6696,112.17300000000002,111.8224,111.43540000000002,111.118,111.15639999999999,111.22640000000001,111.5046,111.696,112.0308,112.443,112.95519999999999,113.5076,114.1172,114.7138,115.245,115.64759999999998,116.175,116.79220000000001],\"type\":\"scatter\"},{\"line\":{\"color\":\"blue\"},\"name\":\"95-Day MA\",\"x\":[\"2025-07-03T00:00:00\",\"2025-07-02T00:00:00\",\"2025-07-01T00:00:00\",\"2025-06-30T00:00:00\",\"2025-06-27T00:00:00\",\"2025-06-26T00:00:00\",\"2025-06-25T00:00:00\",\"2025-06-24T00:00:00\",\"2025-06-23T00:00:00\",\"2025-06-20T00:00:00\",\"2025-06-18T00:00:00\",\"2025-06-17T00:00:00\",\"2025-06-16T00:00:00\",\"2025-06-13T00:00:00\",\"2025-06-12T00:00:00\",\"2025-06-11T00:00:00\",\"2025-06-10T00:00:00\",\"2025-06-09T00:00:00\",\"2025-06-06T00:00:00\",\"2025-06-05T00:00:00\",\"2025-06-04T00:00:00\",\"2025-06-03T00:00:00\",\"2025-06-02T00:00:00\",\"2025-05-30T00:00:00\",\"2025-05-29T00:00:00\",\"2025-05-28T00:00:00\",\"2025-05-27T00:00:00\",\"2025-05-23T00:00:00\",\"2025-05-22T00:00:00\",\"2025-05-21T00:00:00\",\"2025-05-20T00:00:00\",\"2025-05-19T00:00:00\",\"2025-05-16T00:00:00\",\"2025-05-15T00:00:00\",\"2025-05-14T00:00:00\",\"2025-05-13T00:00:00\",\"2025-05-12T00:00:00\",\"2025-05-09T00:00:00\",\"2025-05-08T00:00:00\",\"2025-05-07T00:00:00\",\"2025-05-06T00:00:00\",\"2025-05-05T00:00:00\",\"2025-05-02T00:00:00\",\"2025-05-01T00:00:00\",\"2025-04-30T00:00:00\",\"2025-04-29T00:00:00\",\"2025-04-28T00:00:00\",\"2025-04-25T00:00:00\",\"2025-04-24T00:00:00\",\"2025-04-23T00:00:00\",\"2025-04-22T00:00:00\",\"2025-04-21T00:00:00\",\"2025-04-17T00:00:00\",\"2025-04-16T00:00:00\",\"2025-04-15T00:00:00\",\"2025-04-14T00:00:00\",\"2025-04-11T00:00:00\",\"2025-04-10T00:00:00\",\"2025-04-09T00:00:00\",\"2025-04-08T00:00:00\",\"2025-04-07T00:00:00\",\"2025-04-04T00:00:00\",\"2025-04-03T00:00:00\",\"2025-04-02T00:00:00\",\"2025-04-01T00:00:00\",\"2025-03-31T00:00:00\",\"2025-03-28T00:00:00\",\"2025-03-27T00:00:00\",\"2025-03-26T00:00:00\",\"2025-03-25T00:00:00\",\"2025-03-24T00:00:00\",\"2025-03-21T00:00:00\",\"2025-03-20T00:00:00\",\"2025-03-19T00:00:00\",\"2025-03-18T00:00:00\",\"2025-03-17T00:00:00\",\"2025-03-14T00:00:00\",\"2025-03-13T00:00:00\",\"2025-03-12T00:00:00\",\"2025-03-11T00:00:00\",\"2025-03-10T00:00:00\",\"2025-03-07T00:00:00\",\"2025-03-06T00:00:00\",\"2025-03-05T00:00:00\",\"2025-03-04T00:00:00\",\"2025-03-03T00:00:00\",\"2025-02-28T00:00:00\",\"2025-02-27T00:00:00\",\"2025-02-26T00:00:00\",\"2025-02-25T00:00:00\",\"2025-02-24T00:00:00\",\"2025-02-21T00:00:00\",\"2025-02-20T00:00:00\",\"2025-02-19T00:00:00\",\"2025-02-18T00:00:00\",\"2025-02-14T00:00:00\",\"2025-02-13T00:00:00\",\"2025-02-12T00:00:00\",\"2025-02-11T00:00:00\",\"2025-02-10T00:00:00\"],\"y\":[null,null,null,null,null,null,null,null,null,null,null,null,null,null,null,null,null,null,null,null,null,null,null,null,null,null,null,null,null,null,null,null,null,null,null,null,null,null,null,null,null,null,null,null,null,null,null,null,null,null,null,null,null,null,null,null,null,null,null,null,null,null,null,null,null,null,null,null,null,null,null,null,null,null,null,null,null,null,null,null,null,null,null,null,null,null,null,null,null,null,null,null,null,null,124.96968421052632,124.75399999999999,124.52284210526315,124.28957894736843,124.0244210526316,123.76989473684212],\"type\":\"scatter\"}],                        {\"template\":{\"data\":{\"histogram2dcontour\":[{\"type\":\"histogram2dcontour\",\"colorbar\":{\"outlinewidth\":0,\"ticks\":\"\"},\"colorscale\":[[0.0,\"#0d0887\"],[0.1111111111111111,\"#46039f\"],[0.2222222222222222,\"#7201a8\"],[0.3333333333333333,\"#9c179e\"],[0.4444444444444444,\"#bd3786\"],[0.5555555555555556,\"#d8576b\"],[0.6666666666666666,\"#ed7953\"],[0.7777777777777778,\"#fb9f3a\"],[0.8888888888888888,\"#fdca26\"],[1.0,\"#f0f921\"]]}],\"choropleth\":[{\"type\":\"choropleth\",\"colorbar\":{\"outlinewidth\":0,\"ticks\":\"\"}}],\"histogram2d\":[{\"type\":\"histogram2d\",\"colorbar\":{\"outlinewidth\":0,\"ticks\":\"\"},\"colorscale\":[[0.0,\"#0d0887\"],[0.1111111111111111,\"#46039f\"],[0.2222222222222222,\"#7201a8\"],[0.3333333333333333,\"#9c179e\"],[0.4444444444444444,\"#bd3786\"],[0.5555555555555556,\"#d8576b\"],[0.6666666666666666,\"#ed7953\"],[0.7777777777777778,\"#fb9f3a\"],[0.8888888888888888,\"#fdca26\"],[1.0,\"#f0f921\"]]}],\"heatmap\":[{\"type\":\"heatmap\",\"colorbar\":{\"outlinewidth\":0,\"ticks\":\"\"},\"colorscale\":[[0.0,\"#0d0887\"],[0.1111111111111111,\"#46039f\"],[0.2222222222222222,\"#7201a8\"],[0.3333333333333333,\"#9c179e\"],[0.4444444444444444,\"#bd3786\"],[0.5555555555555556,\"#d8576b\"],[0.6666666666666666,\"#ed7953\"],[0.7777777777777778,\"#fb9f3a\"],[0.8888888888888888,\"#fdca26\"],[1.0,\"#f0f921\"]]}],\"heatmapgl\":[{\"type\":\"heatmapgl\",\"colorbar\":{\"outlinewidth\":0,\"ticks\":\"\"},\"colorscale\":[[0.0,\"#0d0887\"],[0.1111111111111111,\"#46039f\"],[0.2222222222222222,\"#7201a8\"],[0.3333333333333333,\"#9c179e\"],[0.4444444444444444,\"#bd3786\"],[0.5555555555555556,\"#d8576b\"],[0.6666666666666666,\"#ed7953\"],[0.7777777777777778,\"#fb9f3a\"],[0.8888888888888888,\"#fdca26\"],[1.0,\"#f0f921\"]]}],\"contourcarpet\":[{\"type\":\"contourcarpet\",\"colorbar\":{\"outlinewidth\":0,\"ticks\":\"\"}}],\"contour\":[{\"type\":\"contour\",\"colorbar\":{\"outlinewidth\":0,\"ticks\":\"\"},\"colorscale\":[[0.0,\"#0d0887\"],[0.1111111111111111,\"#46039f\"],[0.2222222222222222,\"#7201a8\"],[0.3333333333333333,\"#9c179e\"],[0.4444444444444444,\"#bd3786\"],[0.5555555555555556,\"#d8576b\"],[0.6666666666666666,\"#ed7953\"],[0.7777777777777778,\"#fb9f3a\"],[0.8888888888888888,\"#fdca26\"],[1.0,\"#f0f921\"]]}],\"surface\":[{\"type\":\"surface\",\"colorbar\":{\"outlinewidth\":0,\"ticks\":\"\"},\"colorscale\":[[0.0,\"#0d0887\"],[0.1111111111111111,\"#46039f\"],[0.2222222222222222,\"#7201a8\"],[0.3333333333333333,\"#9c179e\"],[0.4444444444444444,\"#bd3786\"],[0.5555555555555556,\"#d8576b\"],[0.6666666666666666,\"#ed7953\"],[0.7777777777777778,\"#fb9f3a\"],[0.8888888888888888,\"#fdca26\"],[1.0,\"#f0f921\"]]}],\"mesh3d\":[{\"type\":\"mesh3d\",\"colorbar\":{\"outlinewidth\":0,\"ticks\":\"\"}}],\"scatter\":[{\"fillpattern\":{\"fillmode\":\"overlay\",\"size\":10,\"solidity\":0.2},\"type\":\"scatter\"}],\"parcoords\":[{\"type\":\"parcoords\",\"line\":{\"colorbar\":{\"outlinewidth\":0,\"ticks\":\"\"}}}],\"scatterpolargl\":[{\"type\":\"scatterpolargl\",\"marker\":{\"colorbar\":{\"outlinewidth\":0,\"ticks\":\"\"}}}],\"bar\":[{\"error_x\":{\"color\":\"#2a3f5f\"},\"error_y\":{\"color\":\"#2a3f5f\"},\"marker\":{\"line\":{\"color\":\"#E5ECF6\",\"width\":0.5},\"pattern\":{\"fillmode\":\"overlay\",\"size\":10,\"solidity\":0.2}},\"type\":\"bar\"}],\"scattergeo\":[{\"type\":\"scattergeo\",\"marker\":{\"colorbar\":{\"outlinewidth\":0,\"ticks\":\"\"}}}],\"scatterpolar\":[{\"type\":\"scatterpolar\",\"marker\":{\"colorbar\":{\"outlinewidth\":0,\"ticks\":\"\"}}}],\"histogram\":[{\"marker\":{\"pattern\":{\"fillmode\":\"overlay\",\"size\":10,\"solidity\":0.2}},\"type\":\"histogram\"}],\"scattergl\":[{\"type\":\"scattergl\",\"marker\":{\"colorbar\":{\"outlinewidth\":0,\"ticks\":\"\"}}}],\"scatter3d\":[{\"type\":\"scatter3d\",\"line\":{\"colorbar\":{\"outlinewidth\":0,\"ticks\":\"\"}},\"marker\":{\"colorbar\":{\"outlinewidth\":0,\"ticks\":\"\"}}}],\"scattermapbox\":[{\"type\":\"scattermapbox\",\"marker\":{\"colorbar\":{\"outlinewidth\":0,\"ticks\":\"\"}}}],\"scatterternary\":[{\"type\":\"scatterternary\",\"marker\":{\"colorbar\":{\"outlinewidth\":0,\"ticks\":\"\"}}}],\"scattercarpet\":[{\"type\":\"scattercarpet\",\"marker\":{\"colorbar\":{\"outlinewidth\":0,\"ticks\":\"\"}}}],\"carpet\":[{\"aaxis\":{\"endlinecolor\":\"#2a3f5f\",\"gridcolor\":\"white\",\"linecolor\":\"white\",\"minorgridcolor\":\"white\",\"startlinecolor\":\"#2a3f5f\"},\"baxis\":{\"endlinecolor\":\"#2a3f5f\",\"gridcolor\":\"white\",\"linecolor\":\"white\",\"minorgridcolor\":\"white\",\"startlinecolor\":\"#2a3f5f\"},\"type\":\"carpet\"}],\"table\":[{\"cells\":{\"fill\":{\"color\":\"#EBF0F8\"},\"line\":{\"color\":\"white\"}},\"header\":{\"fill\":{\"color\":\"#C8D4E3\"},\"line\":{\"color\":\"white\"}},\"type\":\"table\"}],\"barpolar\":[{\"marker\":{\"line\":{\"color\":\"#E5ECF6\",\"width\":0.5},\"pattern\":{\"fillmode\":\"overlay\",\"size\":10,\"solidity\":0.2}},\"type\":\"barpolar\"}],\"pie\":[{\"automargin\":true,\"type\":\"pie\"}]},\"layout\":{\"autotypenumbers\":\"strict\",\"colorway\":[\"#636efa\",\"#EF553B\",\"#00cc96\",\"#ab63fa\",\"#FFA15A\",\"#19d3f3\",\"#FF6692\",\"#B6E880\",\"#FF97FF\",\"#FECB52\"],\"font\":{\"color\":\"#2a3f5f\"},\"hovermode\":\"closest\",\"hoverlabel\":{\"align\":\"left\"},\"paper_bgcolor\":\"white\",\"plot_bgcolor\":\"#E5ECF6\",\"polar\":{\"bgcolor\":\"#E5ECF6\",\"angularaxis\":{\"gridcolor\":\"white\",\"linecolor\":\"white\",\"ticks\":\"\"},\"radialaxis\":{\"gridcolor\":\"white\",\"linecolor\":\"white\",\"ticks\":\"\"}},\"ternary\":{\"bgcolor\":\"#E5ECF6\",\"aaxis\":{\"gridcolor\":\"white\",\"linecolor\":\"white\",\"ticks\":\"\"},\"baxis\":{\"gridcolor\":\"white\",\"linecolor\":\"white\",\"ticks\":\"\"},\"caxis\":{\"gridcolor\":\"white\",\"linecolor\":\"white\",\"ticks\":\"\"}},\"coloraxis\":{\"colorbar\":{\"outlinewidth\":0,\"ticks\":\"\"}},\"colorscale\":{\"sequential\":[[0.0,\"#0d0887\"],[0.1111111111111111,\"#46039f\"],[0.2222222222222222,\"#7201a8\"],[0.3333333333333333,\"#9c179e\"],[0.4444444444444444,\"#bd3786\"],[0.5555555555555556,\"#d8576b\"],[0.6666666666666666,\"#ed7953\"],[0.7777777777777778,\"#fb9f3a\"],[0.8888888888888888,\"#fdca26\"],[1.0,\"#f0f921\"]],\"sequentialminus\":[[0.0,\"#0d0887\"],[0.1111111111111111,\"#46039f\"],[0.2222222222222222,\"#7201a8\"],[0.3333333333333333,\"#9c179e\"],[0.4444444444444444,\"#bd3786\"],[0.5555555555555556,\"#d8576b\"],[0.6666666666666666,\"#ed7953\"],[0.7777777777777778,\"#fb9f3a\"],[0.8888888888888888,\"#fdca26\"],[1.0,\"#f0f921\"]],\"diverging\":[[0,\"#8e0152\"],[0.1,\"#c51b7d\"],[0.2,\"#de77ae\"],[0.3,\"#f1b6da\"],[0.4,\"#fde0ef\"],[0.5,\"#f7f7f7\"],[0.6,\"#e6f5d0\"],[0.7,\"#b8e186\"],[0.8,\"#7fbc41\"],[0.9,\"#4d9221\"],[1,\"#276419\"]]},\"xaxis\":{\"gridcolor\":\"white\",\"linecolor\":\"white\",\"ticks\":\"\",\"title\":{\"standoff\":15},\"zerolinecolor\":\"white\",\"automargin\":true,\"zerolinewidth\":2},\"yaxis\":{\"gridcolor\":\"white\",\"linecolor\":\"white\",\"ticks\":\"\",\"title\":{\"standoff\":15},\"zerolinecolor\":\"white\",\"automargin\":true,\"zerolinewidth\":2},\"scene\":{\"xaxis\":{\"backgroundcolor\":\"#E5ECF6\",\"gridcolor\":\"white\",\"linecolor\":\"white\",\"showbackground\":true,\"ticks\":\"\",\"zerolinecolor\":\"white\",\"gridwidth\":2},\"yaxis\":{\"backgroundcolor\":\"#E5ECF6\",\"gridcolor\":\"white\",\"linecolor\":\"white\",\"showbackground\":true,\"ticks\":\"\",\"zerolinecolor\":\"white\",\"gridwidth\":2},\"zaxis\":{\"backgroundcolor\":\"#E5ECF6\",\"gridcolor\":\"white\",\"linecolor\":\"white\",\"showbackground\":true,\"ticks\":\"\",\"zerolinecolor\":\"white\",\"gridwidth\":2}},\"shapedefaults\":{\"line\":{\"color\":\"#2a3f5f\"}},\"annotationdefaults\":{\"arrowcolor\":\"#2a3f5f\",\"arrowhead\":0,\"arrowwidth\":1},\"geo\":{\"bgcolor\":\"white\",\"landcolor\":\"#E5ECF6\",\"subunitcolor\":\"white\",\"showland\":true,\"showlakes\":true,\"lakecolor\":\"white\"},\"title\":{\"x\":0.05},\"mapbox\":{\"style\":\"light\"}}},\"title\":{\"text\":\"Interactive Stock Price\"},\"xaxis\":{\"title\":{\"text\":\"Date\"}},\"yaxis\":{\"title\":{\"text\":\"Price ($)\"}},\"hovermode\":\"x unified\"},                        {\"responsive\": true}                    ).then(function(){\n",
       "                            \n",
       "var gd = document.getElementById('3b2b921a-fdab-4030-8e4b-a1d9d9132723');\n",
       "var x = new MutationObserver(function (mutations, observer) {{\n",
       "        var display = window.getComputedStyle(gd).display;\n",
       "        if (!display || display === 'none') {{\n",
       "            console.log([gd, 'removed!']);\n",
       "            Plotly.purge(gd);\n",
       "            observer.disconnect();\n",
       "        }}\n",
       "}});\n",
       "\n",
       "// Listen for the removal of the full notebook cells\n",
       "var notebookContainer = gd.closest('#notebook-container');\n",
       "if (notebookContainer) {{\n",
       "    x.observe(notebookContainer, {childList: true});\n",
       "}}\n",
       "\n",
       "// Listen for the clearing of the current output cell\n",
       "var outputEl = gd.closest('.output');\n",
       "if (outputEl) {{\n",
       "    x.observe(outputEl, {childList: true});\n",
       "}}\n",
       "\n",
       "                        })                };                });            </script>        </div>"
      ]
     },
     "metadata": {},
     "output_type": "display_data"
    }
   ],
   "source": [
    "fig.add_trace(go.Scatter(x=df.index,y=df['Moving Average 50'],name='50-Day MA',line=dict(color='orange')))\n",
    "fig.add_trace(go.Scatter(x=df.index,y=df['Moving Average 95'],name='95-Day MA',line=dict(color='blue'))) \n",
    "\n",
    "\n",
    "fig.update_layout(title='Interactive Stock Price',xaxis_title='Date',yaxis_title='Price ($)',hovermode='x unified')  "
   ]
  },
  {
   "cell_type": "code",
   "execution_count": 25,
   "id": "495712d5-0953-4e5c-b57c-b84bf91b4e1a",
   "metadata": {},
   "outputs": [],
   "source": [
    "fig.write_html('interactive_candlestick.html')"
   ]
  },
  {
   "cell_type": "code",
   "execution_count": null,
   "id": "43b83de5-c361-4593-b8d3-a67499c5d705",
   "metadata": {},
   "outputs": [],
   "source": []
  },
  {
   "cell_type": "code",
   "execution_count": null,
   "id": "75630770-e8f5-4be9-897b-00f7a08f1a76",
   "metadata": {},
   "outputs": [],
   "source": []
  },
  {
   "cell_type": "code",
   "execution_count": null,
   "id": "3da247ae-f3f2-4670-a311-74389c813380",
   "metadata": {},
   "outputs": [],
   "source": []
  },
  {
   "cell_type": "code",
   "execution_count": null,
   "id": "b5a9c7c9-959c-4b5d-a29e-4e7af330dba4",
   "metadata": {},
   "outputs": [],
   "source": []
  }
 ],
 "metadata": {
  "kernelspec": {
   "display_name": "Python 3 (ipykernel)",
   "language": "python",
   "name": "python3"
  },
  "language_info": {
   "codemirror_mode": {
    "name": "ipython",
    "version": 3
   },
   "file_extension": ".py",
   "mimetype": "text/x-python",
   "name": "python",
   "nbconvert_exporter": "python",
   "pygments_lexer": "ipython3",
   "version": "3.12.3"
  }
 },
 "nbformat": 4,
 "nbformat_minor": 5
}
